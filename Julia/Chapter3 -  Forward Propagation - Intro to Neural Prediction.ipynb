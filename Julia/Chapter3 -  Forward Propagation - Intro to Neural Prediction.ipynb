{
 "cells": [
  {
   "cell_type": "markdown",
   "metadata": {},
   "source": [
    "# A Simple Neural Network Making a Prediction"
   ]
  },
  {
   "cell_type": "markdown",
   "metadata": {},
   "source": [
    "### What is a Neural Network?"
   ]
  },
  {
   "cell_type": "code",
   "execution_count": 5,
   "metadata": {},
   "outputs": [
    {
     "name": "stdout",
     "output_type": "stream",
     "text": [
      "0.8500000000000001"
     ]
    }
   ],
   "source": [
    "# The network:\n",
    "\n",
    "weight = 0.1 \n",
    "neural_network(input, weight) = input * weight\n",
    "\n",
    "# How we use the network to predict something:\n",
    "\n",
    "number_of_toes = [8.5, 9.5, 10, 9]\n",
    "input = number_of_toes[1]\n",
    "pred = neural_network(input, weight)\n",
    "print(pred)"
   ]
  },
  {
   "cell_type": "markdown",
   "metadata": {},
   "source": [
    "# Making a Prediction with Multiple Inputs"
   ]
  },
  {
   "cell_type": "markdown",
   "metadata": {},
   "source": [
    "### Complete Runnable Code"
   ]
  },
  {
   "cell_type": "code",
   "execution_count": 213,
   "metadata": {},
   "outputs": [
    {
     "name": "stdout",
     "output_type": "stream",
     "text": [
      "0.9800000000000001"
     ]
    }
   ],
   "source": [
    "function w_sum(a,b)\n",
    "    @assert length(a) == length(b)\n",
    "    output = 0\n",
    "    for i in 1:length(a)\n",
    "        output += (a[i] * b[i])\n",
    "    end\n",
    "    return output\n",
    "end\n",
    "\n",
    "weights = [0.1 0.2 0] \n",
    "    \n",
    "function neural_network(input, weights)\n",
    "    w_sum(input, weights)\n",
    "end\n",
    "\n",
    "# This dataset is the current\n",
    "# status at the beginning of\n",
    "# each game for the first 4 games\n",
    "# in a season.\n",
    "\n",
    "# toes = current number of toes\n",
    "# wlrec = current games won (percent)\n",
    "# nfans = fan count (in millions)\n",
    "\n",
    "toes =  [8.5 9.5 9.9 9.0]\n",
    "wlrec = [0.65 0.8 0.8 0.9]\n",
    "nfans = [1.2 1.3 0.5 1.0]\n",
    "\n",
    "# Input corresponds to every entry\n",
    "# for the first game of the season.\n",
    "\n",
    "input = [toes[1] wlrec[1] nfans[1]]\n",
    "pred = neural_network(input, weights)\n",
    "\n",
    "print(pred)"
   ]
  },
  {
   "cell_type": "markdown",
   "metadata": {},
   "source": [
    "### Julia LinearAlgebra"
   ]
  },
  {
   "cell_type": "code",
   "execution_count": 136,
   "metadata": {},
   "outputs": [
    {
     "name": "stdout",
     "output_type": "stream",
     "text": [
      "0.9800000000000001"
     ]
    }
   ],
   "source": [
    "using LinearAlgebra\n",
    "\n",
    "weights = [0.1 0.2 0]\n",
    "neural_network(input, weights) = dot(input, weights)\n",
    "    \n",
    "toes =  [8.5 9.5 9.9 9.0]\n",
    "wlrec = [0.65 0.8 0.8 0.9]\n",
    "nfans = [1.2 1.3 0.5 1.0]\n",
    "\n",
    "# Input corresponds to every entry\n",
    "# for the first game of the season.\n",
    "\n",
    "input = [toes[1] wlrec[1] nfans[1]]\n",
    "pred = neural_network(input, weights)\n",
    "\n",
    "print(pred)"
   ]
  },
  {
   "cell_type": "markdown",
   "metadata": {},
   "source": [
    "# Making a Prediction with Multiple Outputs"
   ]
  },
  {
   "cell_type": "code",
   "execution_count": 214,
   "metadata": {},
   "outputs": [
    {
     "name": "stdout",
     "output_type": "stream",
     "text": [
      "[0.195, 0.13, 0.585]"
     ]
    }
   ],
   "source": [
    "# Instead of predicting just \n",
    "# whether the team won or lost, \n",
    "# now we're also predicting whether\n",
    "# they are happy/sad AND the percentage\n",
    "# of the team that is hurt. We are\n",
    "# making this prediction using only\n",
    "# the current win/loss record.\n",
    "\n",
    "function ele_mul(number, vector)\n",
    "    output = [.0, .0, .0]\n",
    "    @assert (length(output) == length(vector))\n",
    "    for i in 1:length(vector)\n",
    "        output[i] = number * vector[i]\n",
    "    end\n",
    "    return output\n",
    "end\n",
    "\n",
    "weights = [0.3 0.2 0.9] \n",
    "\n",
    "neural_network(input, weights) = ele_mul(input, weights)\n",
    "    \n",
    "wlrec = [0.65 0.8 0.8 0.9]\n",
    "input = wlrec[1]\n",
    "pred = neural_network(input,weights)\n",
    "\n",
    "print(pred)"
   ]
  },
  {
   "cell_type": "markdown",
   "metadata": {},
   "source": [
    "# Predicting with Multiple Inputs & Outputs"
   ]
  },
  {
   "cell_type": "code",
   "execution_count": 47,
   "metadata": {},
   "outputs": [
    {
     "name": "stdout",
     "output_type": "stream",
     "text": [
      "[0.555 0.98 0.965]"
     ]
    }
   ],
   "source": [
    "            #toes #win #fans\n",
    "weights = [ [0.1 0.1 -0.3], #hurt?\n",
    "            [0.1 0.2 0.0], #win?\n",
    "            [0.0 1.3 0.1], ] #sad?\n",
    "\n",
    "function w_sum(a, b)\n",
    "    @assert length(a) == length(b)\n",
    "    output = 0\n",
    "    for i in 1:length(a)\n",
    "        output += (a[i] * b[i])\n",
    "    end\n",
    "    return output\n",
    "end\n",
    "\n",
    "function vect_mat_mul(vect, matrix)\n",
    "    @assert length(vect) == length(matrix)\n",
    "    output = [.0 .0 .0]\n",
    "    for i in range(1, stop=length(vect))\n",
    "        output[i] = w_sum(vect, matrix[i])\n",
    "    end\n",
    "    return output\n",
    "end\n",
    "\n",
    "neural_network(input, weights) = vect_mat_mul(input,weights)\n",
    "\n",
    "# This dataset is the current\n",
    "# status at the beginning of\n",
    "# each game for the first 4 games\n",
    "# in a season.\n",
    "\n",
    "# toes = current number of toes\n",
    "# wlrec = current games won (percent)\n",
    "# nfans = fan count (in millions)\n",
    "\n",
    "toes =  [8.5 9.5 9.9 9.0]\n",
    "wlrec = [0.65 0.8 0.8 0.9]\n",
    "nfans = [1.2 1.3 0.5 1.0]\n",
    "\n",
    "# Input corresponds to every entry\n",
    "# for the first game of the season.\n",
    "\n",
    "input = [toes[1] wlrec[1] nfans[1]]\n",
    "pred = neural_network(input, weights)\n",
    "\n",
    "print(pred)"
   ]
  },
  {
   "cell_type": "markdown",
   "metadata": {},
   "source": [
    "# Predicting on Predictions"
   ]
  },
  {
   "cell_type": "code",
   "execution_count": 49,
   "metadata": {},
   "outputs": [
    {
     "name": "stdout",
     "output_type": "stream",
     "text": [
      "[0.2135 0.145 0.5065]"
     ]
    }
   ],
   "source": [
    "            #toes #win #fans\n",
    "ih_wgt = [ [0.1, 0.2, -0.1], #hid[0]\n",
    "           [-0.1, 0.1, 0.9], #hid[1]\n",
    "           [0.1, 0.4, 0.1] ] #hid[2]\n",
    "\n",
    "           #hid[0] hid[1] hid[2]\n",
    "hp_wgt = [ [0.3, 1.1, -0.3], #hurt?\n",
    "           [0.1, 0.2, 0.0], #win?\n",
    "           [0.0, 1.3, 0.1] ] #sad?\n",
    "\n",
    "weights = [ih_wgt, hp_wgt]\n",
    "\n",
    "function neural_network(input, weights)\n",
    "    hid = vect_mat_mul(input, weights[1])\n",
    "    pred = vect_mat_mul(hid, weights[2])\n",
    "    return pred\n",
    "end\n",
    "\n",
    "toes =  [8.5, 9.5, 9.9, 9.0]\n",
    "wlrec = [0.65, 0.8, 0.8, 0.9]\n",
    "nfans = [1.2, 1.3, 0.5, 1.0]\n",
    "\n",
    "# Input corresponds to every entry\n",
    "# for the first game of the season.\n",
    "\n",
    "input = [toes[1], wlrec[1], nfans[1]]\n",
    "pred = neural_network(input, weights)\n",
    "\n",
    "print(pred)"
   ]
  },
  {
   "cell_type": "markdown",
   "metadata": {},
   "source": [
    "# Julia LinearAlgebra"
   ]
  },
  {
   "cell_type": "code",
   "execution_count": 75,
   "metadata": {},
   "outputs": [
    {
     "name": "stdout",
     "output_type": "stream",
     "text": [
      "[0.2135, 0.145, 0.5065]"
     ]
    }
   ],
   "source": [
    "using LinearAlgebra\n",
    "\n",
    "           #toes #win #fans\n",
    "ih_wgt = [ 0.1 0.2 -0.1; #hid[0]\n",
    "           -0.1 0.1 0.9; #hid[1]\n",
    "           0.1 0.4 0.1 ] #hid[2]\n",
    "\n",
    "           #hid[0] hid[1] hid[2]\n",
    "hp_wgt = [ 0.3 1.1 -0.3; #hurt?\n",
    "           0.1 0.2 0.0; #win?\n",
    "           0.0 1.3 0.1 ] #sad?\n",
    "\n",
    "weights = [ih_wgt, hp_wgt]\n",
    "\n",
    "function neural_network(input, weights)\n",
    "    hid = [dot(input, row) for row in eachrow(weights[1])]\n",
    "    pred = [dot(hid, row) for row in eachrow(weights[2])]\n",
    "    return pred\n",
    "end\n",
    "\n",
    "toes =  [8.5 9.5 9.9 9.0]\n",
    "wlrec = [0.65 0.8 0.8 0.9]\n",
    "nfans = [1.2 1.3 0.5 1.0]\n",
    "\n",
    "input = [toes[1] wlrec[1] nfans[1]]\n",
    "\n",
    "pred = neural_network(input, weights)\n",
    "\n",
    "print(pred)"
   ]
  },
  {
   "cell_type": "markdown",
   "metadata": {},
   "source": [
    "# A Quick Primer on Julia"
   ]
  },
  {
   "cell_type": "code",
   "execution_count": 76,
   "metadata": {},
   "outputs": [
    {
     "name": "stdout",
     "output_type": "stream",
     "text": [
      "[0 1 2 3]\n",
      "[4 5 6 7]\n",
      "[0 1 2 3; 4 5 6 7]\n",
      "[0.0 0.0 0.0 0.0; 0.0 0.0 0.0 0.0]\n",
      "[0.788067 0.392528 0.0366427 0.329013 0.731914; 0.361262 0.0364661 0.942432 0.163024 0.548304]\n"
     ]
    }
   ],
   "source": [
    "a = [0 1 2 3] # a vector\n",
    "b = [4 5 6 7] # another vector\n",
    "c = [0 1 2 3; 4 5 6 7] # a matrix\n",
    "\n",
    "d = zeros(2, 4) # (2x4 matrix of zeros)\n",
    "e = rand(2, 5) # random 2x5\n",
    "# matrix with all numbers between 0 and 1\n",
    "\n",
    "println(a)\n",
    "println(b)\n",
    "println(c)\n",
    "println(d)\n",
    "println(e)"
   ]
  },
  {
   "cell_type": "code",
   "execution_count": 77,
   "metadata": {},
   "outputs": [
    {
     "name": "stdout",
     "output_type": "stream",
     "text": [
      "[0.0 0.1 0.2 0.3]\n",
      "[0.0 0.2 0.4 0.6; 0.8 1.0 1.2 1.4]\n",
      "[0 5 12 21]\n",
      "[0.0 1.0 2.4 4.2]\n",
      "[0 1 4 9; 0 5 12 21]\n"
     ]
    },
    {
     "ename": "DimensionMismatch",
     "evalue": "DimensionMismatch(\"matrix A has dimensions (1,4), matrix B has dimensions (2,5)\")",
     "output_type": "error",
     "traceback": [
      "DimensionMismatch(\"matrix A has dimensions (1,4), matrix B has dimensions (2,5)\")",
      "",
      "Stacktrace:",
      " [1] _generic_matmatmul!(::Array{Float64,2}, ::Char, ::Char, ::Array{Int64,2}, ::Array{Float64,2}) at /Users/osx/buildbot/slave/package_osx64/build/usr/share/julia/stdlib/v1.1/LinearAlgebra/src/matmul.jl:591",
      " [2] generic_matmatmul!(::Array{Float64,2}, ::Char, ::Char, ::Array{Int64,2}, ::Array{Float64,2}) at /Users/osx/buildbot/slave/package_osx64/build/usr/share/julia/stdlib/v1.1/LinearAlgebra/src/matmul.jl:581",
      " [3] mul! at /Users/osx/buildbot/slave/package_osx64/build/usr/share/julia/stdlib/v1.1/LinearAlgebra/src/matmul.jl:175 [inlined]",
      " [4] *(::Array{Int64,2}, ::Array{Float64,2}) at /Users/osx/buildbot/slave/package_osx64/build/usr/share/julia/stdlib/v1.1/LinearAlgebra/src/matmul.jl:142",
      " [5] top-level scope at In[77]:10"
     ]
    }
   ],
   "source": [
    "println(a * 0.1) # multiplies every number in vector \"a\" by 0.1\n",
    "      \n",
    "println(c * 0.2) # multiplies every number in matrix \"c\" by 0.2\n",
    "      \n",
    "println(a .* b) # multiplies elementwise between a and b (columns paired up)\n",
    "      \n",
    "println(a .* b * 0.2) # elementwise multiplication then multiplied by 0.2\n",
    "      \n",
    "println(a .* c) # since c has the same number of columns as a, this performs\n",
    "# elementwise multiplication on every row of the matrix \"c\"\n",
    "\n",
    "println(a * e) # since a and e don't have the same number of columns, this\n",
    "# throws \"DimensionMismatch: (\"matrix A has dimensions (1,4), matrix B has dimensions (1,4)\")\""
   ]
  },
  {
   "cell_type": "code",
   "execution_count": 64,
   "metadata": {},
   "outputs": [
    {
     "name": "stdout",
     "output_type": "stream",
     "text": [
      "(1, 3)"
     ]
    }
   ],
   "source": [
    "using LinearAlgebra\n",
    "\n",
    "a = zeros(1, 4) # vector of length 4\n",
    "b = zeros(4, 3) # matrix with 4 rows & 3 columns\n",
    "\n",
    "c = a * b\n",
    "\n",
    "print(size(c))"
   ]
  },
  {
   "cell_type": "code",
   "execution_count": 79,
   "metadata": {},
   "outputs": [
    {
     "name": "stdout",
     "output_type": "stream",
     "text": [
      "(2, 3)\n",
      "(2, 3)\n",
      "(4, 6)\n"
     ]
    },
    {
     "ename": "DimensionMismatch",
     "evalue": "DimensionMismatch(\"A has dimensions (5,4) but B has dimensions (5,6)\")",
     "output_type": "error",
     "traceback": [
      "DimensionMismatch(\"A has dimensions (5,4) but B has dimensions (5,6)\")",
      "",
      "Stacktrace:",
      " [1] gemm_wrapper!(::Array{Float64,2}, ::Char, ::Char, ::Array{Float64,2}, ::Array{Float64,2}) at /Users/osx/buildbot/slave/package_osx64/build/usr/share/julia/stdlib/v1.1/LinearAlgebra/src/matmul.jl:439",
      " [2] mul! at /Users/osx/buildbot/slave/package_osx64/build/usr/share/julia/stdlib/v1.1/LinearAlgebra/src/matmul.jl:144 [inlined]",
      " [3] *(::Array{Float64,2}, ::Array{Float64,2}) at /Users/osx/buildbot/slave/package_osx64/build/usr/share/julia/stdlib/v1.1/LinearAlgebra/src/matmul.jl:142",
      " [4] top-level scope at In[79]:21"
     ]
    }
   ],
   "source": [
    "a = zeros(2, 4) # matrix with 2 rows and 4 columns\n",
    "b = zeros(4, 3) # matrix with 4 rows & 3 columns\n",
    "\n",
    "c = a * b\n",
    "println(size(c)) # outputs (2,3)\n",
    "\n",
    "e = zeros(2, 1) # matrix with 2 rows and 1 columns\n",
    "f = zeros(1, 3) # matrix with 1 row & 3 columns\n",
    "\n",
    "g = e * f\n",
    "println(size(g)) # outputs (2,3)\n",
    "\n",
    "h = zeros(5, 4)' # matrix with 4 rows and 5 columns\n",
    "i = zeros(5 ,6) # matrix with 6 rows & 5 columns\n",
    "\n",
    "j = h * i\n",
    "println(size(j)) # outputs (4,6)\n",
    "\n",
    "h = zeros(5, 4) # matrix with 5 rows and 4 columns\n",
    "i = zeros(5, 6) # matrix with 5 rows & 6 columns\n",
    "j = h * i\n",
    "println(size(j)) # throws an error"
   ]
  },
  {
   "cell_type": "code",
   "execution_count": null,
   "metadata": {},
   "outputs": [],
   "source": []
  }
 ],
 "metadata": {
  "kernelspec": {
   "display_name": "Julia 1.1.0",
   "language": "julia",
   "name": "julia-1.1"
  },
  "language_info": {
   "file_extension": ".jl",
   "mimetype": "application/julia",
   "name": "julia",
   "version": "1.1.0"
  }
 },
 "nbformat": 4,
 "nbformat_minor": 2
}
