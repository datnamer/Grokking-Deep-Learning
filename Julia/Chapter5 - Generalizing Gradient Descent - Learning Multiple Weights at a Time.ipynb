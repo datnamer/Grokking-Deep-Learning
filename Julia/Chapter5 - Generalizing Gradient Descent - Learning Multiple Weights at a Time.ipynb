{
 "cells": [
  {
   "cell_type": "markdown",
   "metadata": {},
   "source": [
    "# Gradient Descent Learning with Multiple Inputs"
   ]
  },
  {
   "cell_type": "code",
   "execution_count": 5,
   "metadata": {},
   "outputs": [
    {
     "name": "stdout",
     "output_type": "stream",
     "text": [
      "Weights: [0.1119, 0.20091, -0.09832]\n",
      "Weight Deltas: [-1.19, -0.091, -0.168]\n"
     ]
    }
   ],
   "source": [
    "function w_sum(a,b)\n",
    "    @assert length(a) == length(b)\n",
    "    output = 0\n",
    "\n",
    "    for i in 1:length(a)\n",
    "        output += (a[i] * b[i])\n",
    "    end\n",
    "\n",
    "    return output\n",
    "end\n",
    "\n",
    "weights = [0.1, 0.2, -.1] \n",
    "\n",
    "neural_network(input,weights) = w_sum(input,weights)\n",
    "\n",
    "toes =  [8.5, 9.5, 9.9, 9.0]\n",
    "wlrec = [0.65, 0.8, 0.8, 0.9]\n",
    "nfans = [1.2, 1.3, 0.5, 1.0]\n",
    "\n",
    "win_or_lose_binary = [1, 1, 0, 1]\n",
    "\n",
    "is_true = win_or_lose_binary[1]\n",
    "\n",
    "# Input corresponds to every entry\n",
    "# for the first game of the season.\n",
    "\n",
    "input = [toes[1], wlrec[1], nfans[1]]\n",
    "\n",
    "pred = neural_network(input, weights)\n",
    "error = (pred - is_true) ^ 2\n",
    "delta = pred - is_true\n",
    "\n",
    "function ele_mul(number,vector)\n",
    "    output = [.0, .0, .0]\n",
    "\n",
    "    @assert length(output) == length(vector)\n",
    "\n",
    "    for i in 1:length(vector)\n",
    "        output[i] = number * vector[i]\n",
    "    end\n",
    "\n",
    "    return output\n",
    "end\n",
    "\n",
    "\n",
    "weight_deltas = ele_mul(delta, input)\n",
    "\n",
    "alpha = 0.01\n",
    "\n",
    "for i in 1:length(weights)\n",
    "    weights[i] -= alpha * weight_deltas[i]\n",
    "end\n",
    "    \n",
    "println(\"Weights: $weights\")\n",
    "println(\"Weight Deltas: $weight_deltas\")"
   ]
  },
  {
   "cell_type": "markdown",
   "metadata": {},
   "source": [
    "# Let's Watch Several Steps of Learning"
   ]
  },
  {
   "cell_type": "code",
   "execution_count": 9,
   "metadata": {},
   "outputs": [
    {
     "name": "stdout",
     "output_type": "stream",
     "text": [
      "Iteration: 1\n",
      "Pred: 0.8600000000000001\n",
      "Error: 0.01959999999999997\n",
      "Delta: -0.1399999999999999\n",
      "Weights: [0.1, 0.2, -0.1]\n",
      "Weight_Deltas:\n",
      "[-1.19, -0.091, -0.168]\n",
      "\n",
      "Iteration: 2\n",
      "Pred: 0.9637574999999999\n",
      "Error: 0.0013135188062500048\n",
      "Delta: -0.036242500000000066\n",
      "Weights: [0.1119, 0.20091, -0.09832]\n",
      "Weight_Deltas:\n",
      "[-0.308061, -0.0235576, -0.043491]\n",
      "\n",
      "Iteration: 3\n",
      "Pred: 0.9906177228125002\n",
      "Error: 8.802712522307997e-5\n",
      "Delta: -0.009382277187499843\n",
      "Weights: [0.114981, 0.201146, -0.0978851]\n",
      "Weight_Deltas:\n",
      "[-0.0797494, -0.00609848, -0.0112587]\n",
      "\n"
     ]
    }
   ],
   "source": [
    "function neural_network(input, weights)\n",
    "  out = 0\n",
    "  for i in 1:length(input)\n",
    "    out += (input[i] * weights[i])\n",
    "  end\n",
    "  return out\n",
    "end\n",
    "\n",
    "function ele_mul(scalar, vector)\n",
    "  out = [.0, .0, .0]\n",
    "  for i in 1:length(out)\n",
    "    out[i] = vector[i] * scalar\n",
    "  end\n",
    "  return out\n",
    "end\n",
    "\n",
    "toes =  [8.5, 9.5, 9.9, 9.0]\n",
    "wlrec = [0.65, 0.8, 0.8, 0.9]\n",
    "nfans = [1.2, 1.3, 0.5, 1.0]\n",
    "\n",
    "win_or_lose_binary = [1, 1, 0, 1]\n",
    "is_true = win_or_lose_binary[1]\n",
    "\n",
    "alpha = 0.01\n",
    "weights = [0.1, 0.2, -.1]\n",
    "input = [toes[1], wlrec[1], nfans[1]]\n",
    "\n",
    "for iter in 1:3\n",
    "  pred = neural_network(input,weights)\n",
    "\n",
    "  error = (pred - true) ^ 2\n",
    "  delta = pred - true\n",
    "\n",
    "  weight_deltas = ele_mul(delta, input)\n",
    "\n",
    "  println(\"Iteration: $iter\")\n",
    "  println(\"Pred: $pred\")\n",
    "  println(\"Error: $error\")\n",
    "  println(\"Delta: $delta\")\n",
    "  println(\"Weights: $weights\")\n",
    "  println(\"Weight_Deltas:\")\n",
    "  println(weight_deltas)\n",
    "  println()\n",
    "\n",
    "  for i in 1:length(weights)\n",
    "    weights[i] -= alpha * weight_deltas[i]\n",
    "  end\n",
    "end"
   ]
  },
  {
   "cell_type": "markdown",
   "metadata": {},
   "source": [
    "# Freezing One Weight - What Does It Do?"
   ]
  },
  {
   "cell_type": "code",
   "execution_count": 3,
   "metadata": {},
   "outputs": [
    {
     "name": "stdout",
     "output_type": "stream",
     "text": [
      "Iteration: 1\n",
      "Pred: 0.8600000000000001\n",
      "Error: 0.01959999999999997\n",
      "Delta: -0.1399999999999999\n",
      "Weights: [0.1, 0.2, -0.1]\n",
      "Weight_Deltas:\n",
      "[0.0, -0.091, -0.168]\n",
      "\n",
      "Iteration: 2\n",
      "Pred: 0.9382250000000001\n",
      "Error: 0.003816150624999989\n",
      "Delta: -0.06177499999999991\n",
      "Weights: [0.1, 0.2273, -0.0496]\n",
      "Weight_Deltas:\n",
      "[0.0, -0.0401537, -0.07413]\n",
      "\n",
      "Iteration: 3\n",
      "Pred: 0.97274178125\n",
      "Error: 0.000743010489422852\n",
      "Delta: -0.027258218750000007\n",
      "Weights: [0.1, 0.239346, -0.027361]\n",
      "Weight_Deltas:\n",
      "[0.0, -0.0177178, -0.0327099]\n",
      "\n"
     ]
    }
   ],
   "source": [
    "function neural_network(input, weights)\n",
    "  out = 0\n",
    "  for i in 1:length(input)\n",
    "    out += (input[i] * weights[i])\n",
    "  end\n",
    "  return out\n",
    "end\n",
    "\n",
    "function ele_mul(scalar, vector)\n",
    "  out = [.0, .0, .0]\n",
    "  for i in 1:length(out)\n",
    "    out[i] = vector[i] * scalar\n",
    "  end\n",
    "  return out\n",
    "end\n",
    "\n",
    "toes =  [8.5, 9.5, 9.9, 9.0]\n",
    "wlrec = [0.65, 0.8, 0.8, 0.9]\n",
    "nfans = [1.2, 1.3, 0.5, 1.0]\n",
    "\n",
    "win_or_lose_binary = [1, 1, 0, 1]\n",
    "is_true = win_or_lose_binary[1]\n",
    "\n",
    "alpha = 0.3\n",
    "weights = [0.1, 0.2, -.1]\n",
    "input = [toes[1], wlrec[1], nfans[1]]\n",
    "\n",
    "for iter in 1:3\n",
    "  pred = neural_network(input,weights)\n",
    "\n",
    "  error = (pred - true) ^ 2\n",
    "  delta = pred - true\n",
    "\n",
    "  weight_deltas = ele_mul(delta,input)\n",
    "  weight_deltas[1] = 0\n",
    "\n",
    "  println(\"Iteration: $iter\")\n",
    "  println(\"Pred: $pred\")\n",
    "  println(\"Error: $error\")\n",
    "  println(\"Delta: $delta\")\n",
    "  println(\"Weights: $weights\")\n",
    "  println(\"Weight_Deltas:\")\n",
    "  println(weight_deltas)\n",
    "  println()\n",
    "\n",
    "  for i in 1:length(weights)\n",
    "    weights[i]-= alpha * weight_deltas[i]\n",
    "  end\n",
    "end"
   ]
  },
  {
   "cell_type": "markdown",
   "metadata": {},
   "source": [
    "# Gradient Descent Learning with Multiple Outputs"
   ]
  },
  {
   "cell_type": "code",
   "execution_count": 4,
   "metadata": {},
   "outputs": [
    {
     "name": "stdout",
     "output_type": "stream",
     "text": [
      "Weights: [0.293825, 0.25655, 0.868475]\n",
      "Weight Deltas: [0.06175, -0.5655, 0.31525]"
     ]
    }
   ],
   "source": [
    "# Instead of predicting just \n",
    "# whether the team won or lost, \n",
    "# now we're also predicting whether\n",
    "# they are happy/sad AND the\n",
    "# percentage of the team that is\n",
    "# hurt. We are making this\n",
    "# prediction using only\n",
    "# the current win/loss record.\n",
    "\n",
    "weights = [0.3, 0.2, 0.9] \n",
    "\n",
    "neural_network(input, weights) = ele_mul(input,weights)\n",
    "\n",
    "wlrec = [0.65, 1.0, 1.0, 0.9]\n",
    "\n",
    "hurt  = [0.1, 0.0, 0.0, 0.1]\n",
    "win   = [  1,   1,   0,   1]\n",
    "sad   = [0.1, 0.0, 0.1, 0.2]\n",
    "\n",
    "input = wlrec[1]\n",
    "is_true = [hurt[1], win[1], sad[1]]\n",
    "\n",
    "pred = neural_network(input,weights)\n",
    "\n",
    "error = [.0, .0, .0] \n",
    "delta = [.0, .0, .0]\n",
    "\n",
    "for i in 1:length(is_true)\n",
    "    error[i] = (pred[i] - is_true[i]) ^ 2\n",
    "    delta[i] = pred[i] - is_true[i]\n",
    "end\n",
    "    \n",
    "function scalar_ele_mul(number,vector)\n",
    "    output = [.0, .0, .0]\n",
    "\n",
    "    @assert length(output) == length(vector)\n",
    "\n",
    "    for i in 1:length(vector)\n",
    "        output[i] = number * vector[i]\n",
    "    end\n",
    "\n",
    "    return output\n",
    "end\n",
    "\n",
    "weight_deltas = scalar_ele_mul(input,delta)\n",
    "\n",
    "alpha = 0.1\n",
    "\n",
    "for i in 1:length(weights)\n",
    "    weights[i] -= (weight_deltas[i] * alpha)\n",
    "end\n",
    "    \n",
    "println(\"Weights: $weights\")\n",
    "print(\"Weight Deltas: $weight_deltas\")"
   ]
  },
  {
   "cell_type": "markdown",
   "metadata": {},
   "source": [
    "# Gradient Descent with Multiple Inputs & Outputs"
   ]
  },
  {
   "cell_type": "code",
   "execution_count": 72,
   "metadata": {},
   "outputs": [
    {
     "data": {
      "text/plain": [
       "3×3 Array{Float64,2}:\n",
       " 0.1  0.1  -0.3\n",
       " 0.1  0.2   0.0\n",
       " 0.0  1.3   0.1"
      ]
     },
     "execution_count": 72,
     "metadata": {},
     "output_type": "execute_result"
    }
   ],
   "source": [
    "using LinearAlgebra\n",
    "\n",
    "          #toes %win #fans\n",
    "weights = [ 0.1 0.1 -0.3; #hurt?\n",
    "            0.1 0.2 0.0; #win?\n",
    "            0.0 1.3 0.1 ]#sad?\n",
    "\n",
    "function vect_mat_mul(vect, matrix)\n",
    "    @assert length(vect) == size(matrix, 1)\n",
    "    [dot(input, row) for row in eachrow(matrix)]\n",
    "end\n",
    "\n",
    "neural_network(input, weights) = vect_mat_mul(input, weights)\n",
    "\n",
    "toes  = [8.5 9.5 9.9 9.0]\n",
    "wlrec = [0.65 0.8 0.8 0.9]\n",
    "nfans = [1.2 1.3 0.5 1.0]\n",
    "\n",
    "hurt  = [0.1 0.0 0.0 0.1]\n",
    "win   = [1 1 0 1]\n",
    "sad   = [0.1 0.0 0.1 0.2]\n",
    "\n",
    "alpha = 0.01\n",
    "\n",
    "input = [toes[1] wlrec[1] nfans[1]]\n",
    "is_true  = [hurt[1] win[1] sad[1]]\n",
    "\n",
    "pred = neural_network(input, weights)\n",
    "\n",
    "error = [.0 .0 .0] \n",
    "delta = [.0 .0 .0]\n",
    "\n",
    "for i in 1:length(is_true)\n",
    "    error[i] = (pred[i] - is_true[i]) ^ 2\n",
    "    delta[i] = pred[i] - is_true[i]\n",
    "end"
   ]
  },
  {
   "cell_type": "code",
   "execution_count": 64,
   "metadata": {},
   "outputs": [
    {
     "data": {
      "text/plain": [
       "3×3 Array{Float64,2}:\n",
       " 3.8675   -0.17   7.3525 \n",
       " 0.29575  -0.013  0.56225\n",
       " 0.546    -0.024  1.038  "
      ]
     },
     "execution_count": 64,
     "metadata": {},
     "output_type": "execute_result"
    }
   ],
   "source": [
    "outer_prod(a, b) = a' .* b\n",
    "\n",
    "weight_deltas = outer_prod(input, delta)"
   ]
  },
  {
   "cell_type": "code",
   "execution_count": 82,
   "metadata": {},
   "outputs": [
    {
     "data": {
      "text/plain": [
       "3×3 Array{Float64,2}:\n",
       "  0.061325   0.1017   -0.373525 \n",
       "  0.0970425  0.20013  -0.0056225\n",
       " -0.00546    1.30024   0.08962  "
      ]
     },
     "execution_count": 82,
     "metadata": {},
     "output_type": "execute_result"
    }
   ],
   "source": [
    "weights -= alpha * weight_deltas"
   ]
  },
  {
   "cell_type": "code",
   "execution_count": null,
   "metadata": {},
   "outputs": [],
   "source": []
  }
 ],
 "metadata": {
  "kernelspec": {
   "display_name": "Julia 1.1.0",
   "language": "julia",
   "name": "julia-1.1"
  },
  "language_info": {
   "file_extension": ".jl",
   "mimetype": "application/julia",
   "name": "julia",
   "version": "1.1.0"
  }
 },
 "nbformat": 4,
 "nbformat_minor": 2
}
